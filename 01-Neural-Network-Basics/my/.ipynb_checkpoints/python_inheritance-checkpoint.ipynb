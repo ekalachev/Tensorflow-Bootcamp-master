{
 "cells": [
  {
   "cell_type": "code",
   "execution_count": 1,
   "metadata": {},
   "outputs": [],
   "source": [
    "class SimpleClass():\n",
    "    def __init__(self, name):\n",
    "        print(\"SimpleClass \" + name)\n",
    "        \n",
    "    def yell(self):\n",
    "        print(\"YELLING\")\n",
    "\n",
    "\n",
    "class SimpleClass2():\n",
    "    def __init__(self, name):\n",
    "        print(\"SimpleClass2 \" + name)\n",
    "    \n",
    "    def yell2(self):\n",
    "        print(\"YELLING2\")"
   ]
  },
  {
   "cell_type": "code",
   "execution_count": 2,
   "metadata": {},
   "outputs": [],
   "source": [
    "class ExtendedClass(SimpleClass, SimpleClass2):    \n",
    "    def __init__(self):\n",
    "        super().__init__(\"Jose\")\n",
    "        \n",
    "        SimpleClass.__init__(self, \"Eldar\")\n",
    "        SimpleClass2.__init__(self, \"Diego\")\n",
    "        \n",
    "        print('EXTEND!')"
   ]
  },
  {
   "cell_type": "code",
   "execution_count": 3,
   "metadata": {},
   "outputs": [
    {
     "name": "stdout",
     "output_type": "stream",
     "text": [
      "SimpleClass Jose\n",
      "SimpleClass Eldar\n",
      "SimpleClass2 Diego\n",
      "EXTEND!\n"
     ]
    }
   ],
   "source": [
    "y = ExtendedClass()"
   ]
  },
  {
   "cell_type": "code",
   "execution_count": null,
   "metadata": {},
   "outputs": [],
   "source": []
  }
 ],
 "metadata": {
  "kernelspec": {
   "display_name": "Python 3",
   "language": "python",
   "name": "python3"
  },
  "language_info": {
   "codemirror_mode": {
    "name": "ipython",
    "version": 3
   },
   "file_extension": ".py",
   "mimetype": "text/x-python",
   "name": "python",
   "nbconvert_exporter": "python",
   "pygments_lexer": "ipython3",
   "version": "3.7.3"
  }
 },
 "nbformat": 4,
 "nbformat_minor": 2
}
