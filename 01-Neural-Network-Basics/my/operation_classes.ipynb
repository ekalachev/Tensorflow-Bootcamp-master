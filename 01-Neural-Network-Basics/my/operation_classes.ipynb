{
 "cells": [
  {
   "cell_type": "markdown",
   "metadata": {},
   "source": [
    "## Operation"
   ]
  },
  {
   "cell_type": "code",
   "execution_count": 49,
   "metadata": {},
   "outputs": [],
   "source": [
    "import numpy as np"
   ]
  },
  {
   "cell_type": "code",
   "execution_count": 50,
   "metadata": {},
   "outputs": [],
   "source": [
    "class Operation:\n",
    "    def __init__(self, input_nodes=[]):\n",
    "        self.input_nodes = input_nodes\n",
    "        self.output_nodes = []\n",
    "        \n",
    "        for node in input_nodes:\n",
    "            node.output_nodes.append(self)\n",
    "        \n",
    "        _default_graph.operations.append(self)\n",
    "\n",
    "    def compute(self):\n",
    "        pass"
   ]
  },
  {
   "cell_type": "code",
   "execution_count": 51,
   "metadata": {},
   "outputs": [],
   "source": [
    "class add(Operation):\n",
    "    def __init__(self, x, y):\n",
    "        super().__init__([x, y])\n",
    "    \n",
    "    def compute(self, x_var, y_var):\n",
    "        self.inputs = [x_var, y_var]\n",
    "        return x_var + y_var"
   ]
  },
  {
   "cell_type": "code",
   "execution_count": 52,
   "metadata": {},
   "outputs": [],
   "source": [
    "class multiply(Operation):\n",
    "    def __init__(self, x, y):\n",
    "        super().__init__([x, y])\n",
    "    \n",
    "    def compute(self, x_var, y_var):\n",
    "        self.inputs = [x_var, y_var]\n",
    "        return x_var * y_var"
   ]
  },
  {
   "cell_type": "code",
   "execution_count": 53,
   "metadata": {},
   "outputs": [],
   "source": [
    "class matmul(Operation):\n",
    "    def __init__(self, x, y):\n",
    "        super().__init__([x, y])\n",
    "    \n",
    "    def compute(self, x_var, y_var):\n",
    "        self.inputs = [x_var, y_var]\n",
    "        return x_var.dot(y_var)"
   ]
  },
  {
   "cell_type": "code",
   "execution_count": 54,
   "metadata": {},
   "outputs": [],
   "source": [
    "class Placeholder:\n",
    "    def __init__(self):\n",
    "        self.output_nodes = []\n",
    "        _default_graph.placeholders.append(self)"
   ]
  },
  {
   "cell_type": "code",
   "execution_count": 55,
   "metadata": {},
   "outputs": [],
   "source": [
    "class Variable:\n",
    "    def __init__(self, initial_value = None):\n",
    "        self.value = initial_value\n",
    "        self.output_nodes = []\n",
    "        _default_graph.variables.append(self)"
   ]
  },
  {
   "cell_type": "code",
   "execution_count": 56,
   "metadata": {},
   "outputs": [],
   "source": [
    "class Graph:\n",
    "    def __init__(self):\n",
    "        self.operations = []\n",
    "        self.placeholders = []\n",
    "        self.variables = []\n",
    "        \n",
    "    def set_as_default(self):\n",
    "        global _default_graph\n",
    "        _default_graph = self"
   ]
  },
  {
   "cell_type": "markdown",
   "metadata": {},
   "source": [
    "z = Ax + b\n",
    "\n",
    "A = 10\n",
    "\n",
    "b = 1\n",
    "\n",
    "z = 10x + 1"
   ]
  },
  {
   "cell_type": "code",
   "execution_count": 57,
   "metadata": {},
   "outputs": [],
   "source": [
    "g = Graph()"
   ]
  },
  {
   "cell_type": "code",
   "execution_count": 58,
   "metadata": {},
   "outputs": [],
   "source": [
    "g.set_as_default()"
   ]
  },
  {
   "cell_type": "code",
   "execution_count": 59,
   "metadata": {},
   "outputs": [],
   "source": [
    "A = Variable(10)"
   ]
  },
  {
   "cell_type": "code",
   "execution_count": 60,
   "metadata": {},
   "outputs": [],
   "source": [
    "b = Variable(1)"
   ]
  },
  {
   "cell_type": "code",
   "execution_count": 61,
   "metadata": {},
   "outputs": [],
   "source": [
    "x = Placeholder()"
   ]
  },
  {
   "cell_type": "code",
   "execution_count": 62,
   "metadata": {},
   "outputs": [],
   "source": [
    "y = multiply(A, x)"
   ]
  },
  {
   "cell_type": "code",
   "execution_count": 63,
   "metadata": {},
   "outputs": [],
   "source": [
    "z = add(y, b)"
   ]
  },
  {
   "cell_type": "code",
   "execution_count": 64,
   "metadata": {},
   "outputs": [],
   "source": [
    "def traverse_postorder(operation):\n",
    "    \"\"\" \n",
    "    PostOrder Traversal of Nodes. Basically makes sure computations are done in \n",
    "    the correct order (Ax first , then Ax + b). Feel free to copy and paste this code.\n",
    "    It is not super important for understanding the basic fundamentals of deep learning.\n",
    "    \"\"\"\n",
    "    \n",
    "    nodes_postorder = []\n",
    "    def recurse(node):\n",
    "        if isinstance(node, Operation):\n",
    "            for input_node in node.input_nodes:\n",
    "                recurse(input_node)\n",
    "        nodes_postorder.append(node)\n",
    "\n",
    "    recurse(operation)\n",
    "    return nodes_postorder"
   ]
  },
  {
   "cell_type": "code",
   "execution_count": 77,
   "metadata": {},
   "outputs": [],
   "source": [
    "class Session:\n",
    "    def run(self, operation, feed_dict = {}):\n",
    "        nodes_postorder = traverse_postorder(operation)\n",
    "        for node in nodes_postorder:\n",
    "            if type(node) == Placeholder:\n",
    "                node.output = feed_dict[node]\n",
    "            elif type(node) == Variable:\n",
    "                node.output = node.value\n",
    "            else:\n",
    "                # Operation\n",
    "                node.inputs = [input_node.output for input_node in node.input_nodes]\n",
    "                node.output = node.compute(*node.inputs) # * - means multiple parameters\n",
    "\n",
    "            if type(node.output) == list:\n",
    "                node.output = np.array(node.output)\n",
    "\n",
    "        return operation.output"
   ]
  },
  {
   "cell_type": "code",
   "execution_count": 66,
   "metadata": {},
   "outputs": [],
   "source": [
    "sess = Session()"
   ]
  },
  {
   "cell_type": "code",
   "execution_count": 67,
   "metadata": {},
   "outputs": [],
   "source": [
    "result = sess.run(operation=z, feed_dict={x:10})"
   ]
  },
  {
   "cell_type": "code",
   "execution_count": 68,
   "metadata": {},
   "outputs": [
    {
     "data": {
      "text/plain": [
       "101"
      ]
     },
     "execution_count": 68,
     "metadata": {},
     "output_type": "execute_result"
    }
   ],
   "source": [
    "result"
   ]
  },
  {
   "cell_type": "code",
   "execution_count": 73,
   "metadata": {},
   "outputs": [],
   "source": [
    "g = Graph()\n",
    "\n",
    "g.set_as_default()\n",
    "\n",
    "A = Variable([[10, 20], [30, 40]])\n",
    "\n",
    "b = Variable([1, 2])\n",
    "\n",
    "x = Placeholder()\n",
    "\n",
    "y = multiply(A, x)\n",
    "\n",
    "z = add(y, b)"
   ]
  },
  {
   "cell_type": "code",
   "execution_count": 74,
   "metadata": {},
   "outputs": [],
   "source": [
    "sess = Session()"
   ]
  },
  {
   "cell_type": "code",
   "execution_count": 75,
   "metadata": {},
   "outputs": [],
   "source": [
    "result = sess.run(operation=z, feed_dict={x:10})"
   ]
  },
  {
   "cell_type": "code",
   "execution_count": 76,
   "metadata": {},
   "outputs": [
    {
     "data": {
      "text/plain": [
       "array([[101, 202],\n",
       "       [301, 402]])"
      ]
     },
     "execution_count": 76,
     "metadata": {},
     "output_type": "execute_result"
    }
   ],
   "source": [
    "result"
   ]
  },
  {
   "cell_type": "code",
   "execution_count": null,
   "metadata": {},
   "outputs": [],
   "source": []
  }
 ],
 "metadata": {
  "kernelspec": {
   "display_name": "Python 3",
   "language": "python",
   "name": "python3"
  },
  "language_info": {
   "codemirror_mode": {
    "name": "ipython",
    "version": 3
   },
   "file_extension": ".py",
   "mimetype": "text/x-python",
   "name": "python",
   "nbconvert_exporter": "python",
   "pygments_lexer": "ipython3",
   "version": "3.7.3"
  }
 },
 "nbformat": 4,
 "nbformat_minor": 2
}
